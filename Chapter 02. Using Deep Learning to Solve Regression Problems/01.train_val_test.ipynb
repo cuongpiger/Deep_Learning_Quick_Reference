{
 "cells": [
  {
   "cell_type": "markdown",
   "source": [
    "##### Chú ý:\n",
    "_Phần này không có trong sách, được chính tui ghi ra để hướng dẫn làm sao để có các tập training data, val data và test data._"
   ],
   "metadata": {}
  },
  {
   "cell_type": "code",
   "execution_count": 8,
   "source": [
    "import os\n",
    "import random\n",
    "import pandas as pd\n",
    "from sklearn.model_selection import train_test_split\n",
    "\n",
    "random.seed = 42"
   ],
   "outputs": [],
   "metadata": {}
  },
  {
   "cell_type": "markdown",
   "source": [
    "* Trước tiên, ta sẽ định nghĩa hàm `safe_create_directory()` dùng để tạo ra folder."
   ],
   "metadata": {}
  },
  {
   "cell_type": "code",
   "execution_count": 9,
   "source": [
    "def safe_create_directory(dir_name: str):\n",
    "    '''Kiểm tra có tồn tại folder os.getcwd()/data/dir_name không'''\n",
    "    if not os.path.isdir((os.path.join(os.getcwd(), 'data', dir_name))):\n",
    "        os.mkdir(os.path.join(os.getcwd(), 'data', dir_name)) # nếu không thì tạo nó"
   ],
   "outputs": [],
   "metadata": {}
  },
  {
   "cell_type": "markdown",
   "source": [
    "* Hàm này dùng để tạo ra các folder train, val và test"
   ],
   "metadata": {}
  },
  {
   "cell_type": "code",
   "execution_count": 10,
   "source": [
    "def create_data_dir():\n",
    "    [safe_create_directory(dir) for dir in ['train', 'val', 'test']]"
   ],
   "outputs": [],
   "metadata": {}
  },
  {
   "cell_type": "markdown",
   "source": [
    "* Bây giờ ta định nghĩa hàm `train_val_test_split` để tách dataset ban đầu thành 3 phần là training data, val data và test data."
   ],
   "metadata": {}
  },
  {
   "cell_type": "code",
   "execution_count": 11,
   "source": [
    "def train_val_test_split(df, val_pct=0.1, test_pct=0.1):\n",
    "    \"\"\"\n",
    "    Args:\n",
    "        df ([pandas dataframe]): Dataset\n",
    "        val_pct (float, optional): Phần trăm valuation data lấy từ training data. Defaults to 0.1.\n",
    "        test_pct (float, optional): Phần trăm test data lấy từ dataset. Defaults to 0.1.\n",
    "    \"\"\"\n",
    "    size = df.shape[0]\n",
    "    val_pct = (val_pct * size) / ((1 - test_pct) * size) # tính phần trăm valuation data lấy từ training data\n",
    "    train_val, test = train_test_split(df, test_size=test_pct) # tạo tập training data (bao gồm valuation data) và test data\n",
    "    train, val = train_test_split(train_val, test_size=val_pct) # tách tập valuation data từ training data\n",
    "    \n",
    "    return train, val, test"
   ],
   "outputs": [],
   "metadata": {}
  },
  {
   "cell_type": "markdown",
   "source": [
    "* Hàm `serialize_dataset` dùng để ghi training data, val data và test data ra file csv."
   ],
   "metadata": {}
  },
  {
   "cell_type": "code",
   "execution_count": 12,
   "source": [
    "def serialize_dataset(dataset):\n",
    "    for name, data in dataset.items():\n",
    "        out_filename = os.path.join(os.getcwd(), 'data', name, name + '_data.csv')\n",
    "        data.to_csv(out_filename, sep=',', index=False)\n",
    "        \n",
    "        print('Writing {} to {}, shape: {}'.format(name, out_filename, data.shape))"
   ],
   "outputs": [],
   "metadata": {}
  },
  {
   "cell_type": "markdown",
   "source": [
    "* Bây giờ sẽ tao ta training data, val data và test data sau đó ghi nó ra file csv"
   ],
   "metadata": {}
  },
  {
   "cell_type": "code",
   "execution_count": 13,
   "source": [
    "df = pd.read_csv(\"./data/winequality-white.csv\", sep=';')\n",
    "create_data_dir()\n",
    "dataset = dict()\n",
    "dataset['train'], dataset['val'], dataset['test'] = train_val_test_split(df)\n",
    "serialize_dataset(dataset)"
   ],
   "outputs": [
    {
     "output_type": "stream",
     "name": "stdout",
     "text": [
      "Writing train to /home/manhcuong/Documents/Deep_Learning_Quick_Reference/Chapter 02. Using Deep Learning to Solve Regression Problems/data/train/train_data.csv, shape: (3918, 12)\n",
      "Writing val to /home/manhcuong/Documents/Deep_Learning_Quick_Reference/Chapter 02. Using Deep Learning to Solve Regression Problems/data/val/val_data.csv, shape: (490, 12)\n",
      "Writing test to /home/manhcuong/Documents/Deep_Learning_Quick_Reference/Chapter 02. Using Deep Learning to Solve Regression Problems/data/test/test_data.csv, shape: (490, 12)\n"
     ]
    }
   ],
   "metadata": {}
  },
  {
   "cell_type": "code",
   "execution_count": null,
   "source": [],
   "outputs": [],
   "metadata": {}
  }
 ],
 "metadata": {
  "orig_nbformat": 4,
  "language_info": {
   "name": "python",
   "version": "3.6.8",
   "mimetype": "text/x-python",
   "codemirror_mode": {
    "name": "ipython",
    "version": 3
   },
   "pygments_lexer": "ipython3",
   "nbconvert_exporter": "python",
   "file_extension": ".py"
  },
  "kernelspec": {
   "name": "python3",
   "display_name": "Python 3.6.8 64-bit ('python3.6': conda)"
  },
  "interpreter": {
   "hash": "2cade657992b47716e26d0a9b1443bfbca37741f9a577328e2d148cb3e78348d"
  }
 },
 "nbformat": 4,
 "nbformat_minor": 2
}