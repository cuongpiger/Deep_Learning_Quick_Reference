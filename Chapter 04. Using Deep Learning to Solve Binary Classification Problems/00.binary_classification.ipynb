{
 "cells": [
  {
   "cell_type": "markdown",
   "source": [
    "# 1. Binary classification and deep neural networks\n",
    "## 1.1. Benefits of deep neural networks\n",
    "* Trong chương này chúng ta sẽ sử dụng bộ dataset nói về điện não đồ, dataset này gồm 178 features"
   ],
   "metadata": {}
  }
 ],
 "metadata": {
  "orig_nbformat": 4,
  "language_info": {
   "name": "python",
   "version": "3.6.8"
  },
  "kernelspec": {
   "name": "python3",
   "display_name": "Python 3.6.8 64-bit ('python3.6': conda)"
  },
  "interpreter": {
   "hash": "2cade657992b47716e26d0a9b1443bfbca37741f9a577328e2d148cb3e78348d"
  }
 },
 "nbformat": 4,
 "nbformat_minor": 2
}