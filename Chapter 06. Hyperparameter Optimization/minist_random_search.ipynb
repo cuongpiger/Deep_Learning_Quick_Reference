{
 "cells": [
  {
   "cell_type": "code",
   "execution_count": 2,
   "source": [
    "from tensorflow.keras.datasets import mnist\n",
    "from tensorflow.keras.utils import to_categorical\n",
    "from tensorflow.keras.models import Model\n",
    "from tensorflow.keras.layers import Input, Dense, Dropout\n",
    "from tensorflow.keras.wrappers.scikit_learn import KerasClassifier\n",
    "from sklearn.model_selection import RandomizedSearchCV\n",
    "import numpy as np"
   ],
   "outputs": [],
   "metadata": {}
  },
  {
   "cell_type": "code",
   "execution_count": 3,
   "source": [
    "def load_mnist():\n",
    "    (train_X, train_y), (test_X, test_y) = mnist.load_data()\n",
    "    train_X = train_X.reshape(-1, 784)\n",
    "    test_X = test_X.reshape(-1, 784)\n",
    "    train_X = train_X.astype('float32')\n",
    "    test_X = test_X.astype('float32')\n",
    "    train_X /= 255\n",
    "    test_X /= 255\n",
    "\n",
    "    train_y = to_categorical(train_y)\n",
    "    test_y = to_categorical(test_y)\n",
    "    return {\"train_X\": train_X[:55000, :], \"train_y\": train_y[:55000, :],\n",
    "            \"val_X\": train_X[55000:, :], \"val_y\": train_y[55000:, :], \"test_X\": test_X, \"test_y\": test_y}"
   ],
   "outputs": [],
   "metadata": {}
  },
  {
   "cell_type": "code",
   "execution_count": 4,
   "source": [
    "def build_network(keep_prob=0.5, optimizer='adam'):\n",
    "    inputs = Input(shape=(784,), name=\"input\")\n",
    "    x = Dense(512, activation='relu', name=\"hidden1\")(inputs)\n",
    "    x = Dropout(keep_prob)(x)\n",
    "    x = Dense(256, activation='relu', name=\"hidden2\")(x)\n",
    "    x = Dropout(keep_prob)(x)\n",
    "    x = Dense(128, activation='relu', name=\"hidden3\")(x)\n",
    "    x = Dropout(keep_prob)(x)\n",
    "    prediction = Dense(10, activation='softmax', name=\"output\")(x)\n",
    "    model = Model(inputs=inputs, outputs=prediction)\n",
    "    model.compile(optimizer=optimizer, loss='categorical_crossentropy', metrics=[\"accuracy\"])\n",
    "    return model"
   ],
   "outputs": [],
   "metadata": {}
  },
  {
   "cell_type": "code",
   "execution_count": 5,
   "source": [
    "def create_hyperparameters():\n",
    "    batches = [10, 20, 30, 40, 50]\n",
    "    optimizers = ['rmsprop', 'adam', 'adadelta']\n",
    "    dropout = np.linspace(0.1, 0.5, 5)\n",
    "    return {\"batch_size\": batches, \"optimizer\": optimizers, \"keep_prob\": dropout}"
   ],
   "outputs": [],
   "metadata": {}
  },
  {
   "cell_type": "code",
   "execution_count": 6,
   "source": [
    "def main():\n",
    "    data = load_mnist()\n",
    "    model = KerasClassifier(build_fn=build_network, verbose=0)\n",
    "    hyperparameters = create_hyperparameters()\n",
    "    search = RandomizedSearchCV(estimator=model, param_distributions=hyperparameters, n_iter=10, n_jobs=1, cv=3,\n",
    "                              verbose=1)\n",
    "    search.fit(data[\"train_X\"], data[\"train_y\"])\n",
    "\n",
    "    print(search.best_params_)"
   ],
   "outputs": [],
   "metadata": {}
  },
  {
   "cell_type": "code",
   "execution_count": 7,
   "source": [
    "main()"
   ],
   "outputs": [
    {
     "output_type": "stream",
     "name": "stdout",
     "text": [
      "Fitting 3 folds for each of 10 candidates, totalling 30 fits\n"
     ]
    },
    {
     "output_type": "stream",
     "name": "stderr",
     "text": [
      "[Parallel(n_jobs=1)]: Using backend SequentialBackend with 1 concurrent workers.\n",
      "/home/manhcuong/anaconda3/envs/python3.6/lib/python3.6/importlib/_bootstrap.py:219: RuntimeWarning: numpy.ufunc size changed, may indicate binary incompatibility. Expected 192 from C header, got 216 from PyObject\n",
      "  return f(*args, **kwds)\n",
      "/home/manhcuong/anaconda3/envs/python3.6/lib/python3.6/importlib/_bootstrap.py:219: RuntimeWarning: numpy.ufunc size changed, may indicate binary incompatibility. Expected 192 from C header, got 216 from PyObject\n",
      "  return f(*args, **kwds)\n",
      "[Parallel(n_jobs=1)]: Done  30 out of  30 | elapsed:  7.4min finished\n"
     ]
    },
    {
     "output_type": "stream",
     "name": "stdout",
     "text": [
      "{'optimizer': 'adam', 'keep_prob': 0.1, 'batch_size': 50}\n"
     ]
    }
   ],
   "metadata": {}
  },
  {
   "cell_type": "code",
   "execution_count": null,
   "source": [],
   "outputs": [],
   "metadata": {}
  }
 ],
 "metadata": {
  "orig_nbformat": 4,
  "language_info": {
   "name": "python",
   "version": "3.6.8",
   "mimetype": "text/x-python",
   "codemirror_mode": {
    "name": "ipython",
    "version": 3
   },
   "pygments_lexer": "ipython3",
   "nbconvert_exporter": "python",
   "file_extension": ".py"
  },
  "kernelspec": {
   "name": "python3",
   "display_name": "Python 3.6.8 64-bit ('python3.6': conda)"
  },
  "interpreter": {
   "hash": "2cade657992b47716e26d0a9b1443bfbca37741f9a577328e2d148cb3e78348d"
  }
 },
 "nbformat": 4,
 "nbformat_minor": 2
}